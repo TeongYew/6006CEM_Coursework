{
 "cells": [
  {
   "cell_type": "code",
   "execution_count": 1,
   "id": "b3c7f5ff-b677-4c85-bcd8-a612ef77d25d",
   "metadata": {},
   "outputs": [
    {
     "name": "stdout",
     "output_type": "stream",
     "text": [
      "label    0\n",
      "text     0\n",
      "dtype: int64\n"
     ]
    }
   ],
   "source": [
    "import pandas as pd\n",
    "import chardet\n",
    "\n",
    "# Load the dataset\n",
    "df = pd.read_csv('spam_dataset.csv')\n",
    "\n",
    "# Check for missing values\n",
    "print(df.isnull().sum())\n",
    "\n",
    "#1 Remove rows with missing values\n",
    "df = df.dropna()\n",
    "\n",
    "#2 Remove duplicate rows\n",
    "df = df.drop_duplicates()\n",
    "\n",
    "#3 Filter out any text that has lengths less than 5\n",
    "df['text_length'] = df['text'].apply(lambda x: len(str(x).split()))\n",
    "df = df[df['text_length'] > 5]  \n",
    "\n",
    "# Drop the temporary columns\n",
    "df = df.drop('text_length', axis=1)\n",
    "\n",
    "#4 Remove all the \"escapenumber\" text\n",
    "df['text'] = df['text'].replace(r'escapenumber', '', regex=True)\n",
    "\n",
    "#5 Remove any text that is not alpha-numeric\n",
    "df['text'] = df['text'].replace(r'[^a-zA-Z0-9\\s]', '', regex=True)\n",
    "\n",
    "#6 Drop rows where either 'label' or 'text' is missing\n",
    "df = df.dropna(subset=['label', 'text'])\n",
    "\n",
    "# Reset index\n",
    "df = df.reset_index(drop=True)\n",
    "\n",
    "# Save the cleaned dataset\n",
    "df.to_csv('cleaned_spam_dataset.csv', index=False)\n",
    "\n"
   ]
  },
  {
   "cell_type": "code",
   "execution_count": null,
   "id": "653e5fe0-d933-47bd-8ce9-935efb1dea16",
   "metadata": {},
   "outputs": [],
   "source": []
  }
 ],
 "metadata": {
  "kernelspec": {
   "display_name": "Python 3 (ipykernel)",
   "language": "python",
   "name": "python3"
  },
  "language_info": {
   "codemirror_mode": {
    "name": "ipython",
    "version": 3
   },
   "file_extension": ".py",
   "mimetype": "text/x-python",
   "name": "python",
   "nbconvert_exporter": "python",
   "pygments_lexer": "ipython3",
   "version": "3.11.6"
  }
 },
 "nbformat": 4,
 "nbformat_minor": 5
}
